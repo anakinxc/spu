{
 "cells": [
  {
   "cell_type": "code",
   "execution_count": 2,
   "metadata": {},
   "outputs": [
    {
     "name": "stdout",
     "output_type": "stream",
     "text": [
      "{ \u001b[34m\u001b[22m\u001b[1mlambda \u001b[39m\u001b[22m\u001b[22m; a\u001b[35m:f32[]\u001b[39m. \u001b[34m\u001b[22m\u001b[1mlet\n",
      "    \u001b[39m\u001b[22m\u001b[22mb\u001b[35m:f32[]\u001b[39m = log a\n",
      "    c\u001b[35m:f32[]\u001b[39m = log 2.0\n",
      "    d\u001b[35m:f32[]\u001b[39m = div b c\n",
      "  \u001b[34m\u001b[22m\u001b[1min \u001b[39m\u001b[22m\u001b[22m(d,) }\n",
      "{ \u001b[34m\u001b[22m\u001b[1mlambda \u001b[39m\u001b[22m\u001b[22m; a\u001b[35m:f16[20,30]\u001b[39m b\u001b[35m:f16[30]\u001b[39m c\u001b[35m:f16[30,40]\u001b[39m d\u001b[35m:f16[40]\u001b[39m e\u001b[35m:f32[10,20]\u001b[39m. \u001b[34m\u001b[22m\u001b[1mlet\n",
      "    \u001b[39m\u001b[22m\u001b[22mf\u001b[35m:f16[10,20]\u001b[39m = convert_element_type[new_dtype=float16 weak_type=False] e\n",
      "    g\u001b[35m:f16[10,30]\u001b[39m = dot_general[dimension_numbers=(([1], [0]), ([], []))] f a\n",
      "    h\u001b[35m:f16[1,30]\u001b[39m = broadcast_in_dim[broadcast_dimensions=(1,) shape=(1, 30)] b\n",
      "    i\u001b[35m:f16[10,30]\u001b[39m = add g h\n",
      "    j\u001b[35m:f32[10,30]\u001b[39m = convert_element_type[new_dtype=float32 weak_type=False] i\n",
      "    k\u001b[35m:f32[30,40]\u001b[39m = convert_element_type[new_dtype=float32 weak_type=False] c\n",
      "    l\u001b[35m:f32[40]\u001b[39m = convert_element_type[new_dtype=float32 weak_type=False] d\n",
      "    m\u001b[35m:f32[10,40]\u001b[39m = dot_general[dimension_numbers=(([1], [0]), ([], []))] j k\n",
      "    n\u001b[35m:f32[1,40]\u001b[39m = broadcast_in_dim[broadcast_dimensions=(1,) shape=(1, 40)] l\n",
      "    o\u001b[35m:f32[10,40]\u001b[39m = add m n\n",
      "  \u001b[34m\u001b[22m\u001b[1min \u001b[39m\u001b[22m\u001b[22m(o,) }\n"
     ]
    }
   ],
   "source": [
    "import os\n",
    "os.environ[\"JAX_PLATFORMS\"] = \"cpu\"\n",
    "\n",
    "import jax\n",
    "import jax.numpy as jnp\n",
    "import jmp\n",
    "\n",
    "\n",
    "half = jnp.float16  # On TPU this should be jnp.bfloat16.\n",
    "full = jnp.float32\n",
    "\n",
    "global_list = []\n",
    "\n",
    "def log2(x):\n",
    "  global_list.append(x)\n",
    "  ln_x = jnp.log(x)\n",
    "  ln_2 = jnp.log(2.0)\n",
    "  return ln_x / ln_2\n",
    "\n",
    "print(jax.make_jaxpr(log2)(3.0))\n",
    "\n",
    "\n",
    "# Our policy specifies that we will store parameters in full precision but will\n",
    "# compute and return output in half precision.\n",
    "low_policy = jmp.Policy(compute_dtype=half,\n",
    "                       param_dtype=half,\n",
    "                       output_dtype=half)\n",
    "\n",
    "high_policy = jmp.Policy(compute_dtype=full,\n",
    "                       param_dtype=full,\n",
    "                       output_dtype=full)\n",
    "\n",
    "def layer(params, x):\n",
    "  params, x = low_policy.cast_to_compute((params, x))\n",
    "  w1, b1, w2, b2 = params\n",
    "  y = x @ w1 + b1\n",
    "\n",
    "  y, w2, b2 = high_policy.cast_to_compute((y, w2, b2))\n",
    "  z = y @ w2 + b2\n",
    "  return high_policy.cast_to_output(z)\n",
    "\n",
    "params = jnp.ones([20, 30], dtype=low_policy.param_dtype), jnp.ones([30], dtype=low_policy.param_dtype), jnp.ones([30, 40], dtype=low_policy.param_dtype), jnp.ones([40], dtype=low_policy.param_dtype)\n",
    "x = jnp.ones([10, 20])\n",
    "z = layer(params, x)\n",
    "assert z.dtype == full\n",
    "\n",
    "print(jax.make_jaxpr(layer)(params, x))\n",
    "\n"
   ]
  }
 ],
 "metadata": {
  "kernelspec": {
   "display_name": "ppu",
   "language": "python",
   "name": "python3"
  },
  "language_info": {
   "codemirror_mode": {
    "name": "ipython",
    "version": 3
   },
   "file_extension": ".py",
   "mimetype": "text/x-python",
   "name": "python",
   "nbconvert_exporter": "python",
   "pygments_lexer": "ipython3",
   "version": "3.8.16"
  },
  "orig_nbformat": 4,
  "vscode": {
   "interpreter": {
    "hash": "ecbfbbed39712b5193bed708dfb890c1f7714aeee384e004b2c0e2dc90b009e5"
   }
  }
 },
 "nbformat": 4,
 "nbformat_minor": 2
}
